{
 "cells": [
  {
   "cell_type": "code",
   "execution_count": 1,
   "id": "f3a1566e-11ae-42e5-902c-16e00cf1ad71",
   "metadata": {},
   "outputs": [],
   "source": [
    "import os\n",
    "import numpy as np\n",
    "import pandas as pd\n",
    "import matplotlib.pyplot as plt\n"
   ]
  },
  {
   "cell_type": "code",
   "execution_count": 2,
   "id": "0b8627a7-fee2-43c2-95b9-624a71a58294",
   "metadata": {},
   "outputs": [],
   "source": [
    "image_df = pd.read_csv('/ssd-data/MRKR_dataset/MRKR_clinical_data_tables/MRKR_image_metadata.csv')\n",
    "pain_df = pd.read_csv('/ssd-data/MRKR_dataset/MRKR_clinical_data_tables/MRKR_pain.csv')\n",
    "icd_df = pd.read_csv('/ssd-data/MRKR_dataset/MRKR_clinical_data_tables/MRKR_ICD.csv')\n",
    "demo_df = pd.read_csv('/ssd-data/MRKR_dataset/MRKR_clinical_data_tables/MRKR_demographics.csv')"
   ]
  },
  {
   "cell_type": "code",
   "execution_count": 3,
   "id": "ba250122-87c7-4406-b260-e73b76634aa9",
   "metadata": {},
   "outputs": [],
   "source": [
    "image_df = image_df.rename(columns={'StudyDate_anon':'date_anon'})\n"
   ]
  },
  {
   "cell_type": "code",
   "execution_count": 4,
   "id": "49c7e405-73ae-4d13-939b-0629f6b12e31",
   "metadata": {},
   "outputs": [],
   "source": [
    "remove_df = icd_df[(icd_df.joint_infection==1) | (icd_df.trauma_lower_extremity==1) | (icd_df.knee_osteomyelitis==1)][['empi_anon','date_anon']].drop_duplicates().reset_index(drop=True)\n"
   ]
  },
  {
   "cell_type": "code",
   "execution_count": 5,
   "id": "dc190a02-9c17-4d5c-bfa4-6d3e7783a00c",
   "metadata": {},
   "outputs": [
    {
     "data": {
      "text/plain": [
       "(125113, 2)"
      ]
     },
     "execution_count": 5,
     "metadata": {},
     "output_type": "execute_result"
    }
   ],
   "source": [
    "remove_df.shape"
   ]
  },
  {
   "cell_type": "code",
   "execution_count": 6,
   "id": "7157b73b-2017-469d-b434-2707fec03e5c",
   "metadata": {},
   "outputs": [],
   "source": [
    "# Ensure date_anon columns in both datasets are in datetime format\n",
    "image_df['date_anon'] = pd.to_datetime(image_df['date_anon'])\n",
    "remove_df['date_anon'] = pd.to_datetime(remove_df['date_anon'])\n",
    "\n",
    "# Sort both DataFrames by patient ID and date for pd.merge_asof to work\n",
    "image_df = image_df.sort_values(by=['empi_anon','date_anon'])\n",
    "remove_df = remove_df.sort_values(by=['empi_anon','date_anon'])\n"
   ]
  },
  {
   "cell_type": "code",
   "execution_count": 7,
   "id": "8f9a11d0-aef2-4cb7-8c01-02a9feb878f8",
   "metadata": {},
   "outputs": [],
   "source": [
    "# Perform a merge on 'empi_anon' and allow a condition for date difference\n",
    "merged_df = pd.merge(image_df, remove_df, on='empi_anon', suffixes=('_main', '_remove'))\n",
    "\n",
    "# Filter the merged DataFrame where the date difference is within 90 days\n",
    "merged_df['date_diff'] = (merged_df['date_anon_main'] - merged_df['date_anon_remove']).abs()\n",
    "\n",
    "# Keep only rows where the date difference is within 90 days\n",
    "matches_within_30_days = merged_df[merged_df['date_diff'] <= pd.Timedelta(days=90)]\n",
    "\n",
    "# Drop the date_diff column if it's not needed\n",
    "matches_within_30_days = matches_within_30_days.drop(columns=['date_diff'])"
   ]
  },
  {
   "cell_type": "code",
   "execution_count": 8,
   "id": "99eafaed-46e9-4d94-88d5-7cead0d8fa9f",
   "metadata": {},
   "outputs": [
    {
     "data": {
      "text/plain": [
       "(503261, 19)"
      ]
     },
     "execution_count": 8,
     "metadata": {},
     "output_type": "execute_result"
    }
   ],
   "source": [
    "image_df.shape"
   ]
  },
  {
   "cell_type": "code",
   "execution_count": 9,
   "id": "3ef6f018-5264-47b4-9c11-738f1c854834",
   "metadata": {},
   "outputs": [],
   "source": [
    "image_df = image_df[~image_df.dicom_path.isin(matches_within_30_days.dicom_path.tolist())].reset_index(drop=True)"
   ]
  },
  {
   "cell_type": "code",
   "execution_count": 10,
   "id": "e97c8fb8-6844-4995-8d3a-955c585097b3",
   "metadata": {},
   "outputs": [
    {
     "data": {
      "text/plain": [
       "(383450, 19)"
      ]
     },
     "execution_count": 10,
     "metadata": {},
     "output_type": "execute_result"
    }
   ],
   "source": [
    "image_df.shape"
   ]
  },
  {
   "cell_type": "code",
   "execution_count": 11,
   "id": "ee0d37ab-4c90-443d-92f7-e7ff83b9ec0a",
   "metadata": {},
   "outputs": [],
   "source": [
    "autoimmune_patients = icd_df[(icd_df.autoimmune==1)].empi_anon.unique().tolist()"
   ]
  },
  {
   "cell_type": "code",
   "execution_count": 12,
   "id": "6db3ac98-ac74-4b4a-83f6-db5fa7ac5afc",
   "metadata": {},
   "outputs": [],
   "source": [
    "image_df = image_df[~image_df.empi_anon.isin(autoimmune_patients)]"
   ]
  },
  {
   "cell_type": "code",
   "execution_count": 13,
   "id": "bc6c977f-09cd-4dd9-86a1-8737012a3e77",
   "metadata": {},
   "outputs": [],
   "source": [
    "selected_df = image_df[(image_df.laterality==\"B\") & (image_df.weight_bearing==1) & (image_df.view_position==\"F\") & (image_df.age_at_exam<90)].reset_index(drop=True)\n"
   ]
  },
  {
   "cell_type": "code",
   "execution_count": 14,
   "id": "b6bbe1d6-820a-4ff2-b88f-cf14197ac97a",
   "metadata": {},
   "outputs": [],
   "source": [
    "right_df = selected_df.copy()\n",
    "left_df = selected_df.copy()"
   ]
  },
  {
   "cell_type": "code",
   "execution_count": 15,
   "id": "cd9d804e-df82-4d90-8998-15cbd5d207cc",
   "metadata": {},
   "outputs": [],
   "source": [
    "right_df = right_df[(right_df.arthroplasty==\"0\") | (right_df.arthroplasty==\"L\")]\n",
    "left_df = left_df[(left_df.arthroplasty==\"0\") | (left_df.arthroplasty==\"R\")]"
   ]
  },
  {
   "cell_type": "code",
   "execution_count": 16,
   "id": "efe21167-54ae-49d2-88ad-16c271faffaf",
   "metadata": {},
   "outputs": [
    {
     "data": {
      "text/plain": [
       "laterality\n",
       "NaN    4724556\n",
       "R        96492\n",
       "L        87153\n",
       "B        62668\n",
       "Name: count, dtype: int64"
      ]
     },
     "execution_count": 16,
     "metadata": {},
     "output_type": "execute_result"
    }
   ],
   "source": [
    "pain_df.laterality.value_counts(dropna=False)"
   ]
  },
  {
   "cell_type": "code",
   "execution_count": 17,
   "id": "66fc575e-f996-43de-829f-90c80902f608",
   "metadata": {},
   "outputs": [],
   "source": [
    "right_pain_df = pain_df[(pain_df.laterality==\"R\") | (pain_df.laterality==\"B\")]\n",
    "left_pain_df = pain_df[(pain_df.laterality==\"L\") | (pain_df.laterality==\"B\")]"
   ]
  },
  {
   "cell_type": "code",
   "execution_count": 18,
   "id": "4f6af706-d88a-442a-a556-32d4880fe4c6",
   "metadata": {},
   "outputs": [],
   "source": [
    "right_df = right_df.rename(columns={'StudyDate_anon':'date_anon'})\n",
    "left_df = left_df.rename(columns={'StudyDate_anon':'date_anon'})"
   ]
  },
  {
   "cell_type": "code",
   "execution_count": 19,
   "id": "00bf2c56-de84-4f14-bd4f-2bddd1bd9667",
   "metadata": {},
   "outputs": [
    {
     "name": "stderr",
     "output_type": "stream",
     "text": [
      "/tmp/ipykernel_3042315/2115231548.py:2: SettingWithCopyWarning: \n",
      "A value is trying to be set on a copy of a slice from a DataFrame.\n",
      "Try using .loc[row_indexer,col_indexer] = value instead\n",
      "\n",
      "See the caveats in the documentation: https://pandas.pydata.org/pandas-docs/stable/user_guide/indexing.html#returning-a-view-versus-a-copy\n",
      "  right_pain_df['date_anon'] = pd.to_datetime(right_pain_df['date_anon'])\n",
      "/tmp/ipykernel_3042315/2115231548.py:5: SettingWithCopyWarning: \n",
      "A value is trying to be set on a copy of a slice from a DataFrame.\n",
      "Try using .loc[row_indexer,col_indexer] = value instead\n",
      "\n",
      "See the caveats in the documentation: https://pandas.pydata.org/pandas-docs/stable/user_guide/indexing.html#returning-a-view-versus-a-copy\n",
      "  left_pain_df['date_anon'] = pd.to_datetime(left_pain_df['date_anon'])\n"
     ]
    }
   ],
   "source": [
    "right_df['date_anon'] = pd.to_datetime(right_df['date_anon'])\n",
    "right_pain_df['date_anon'] = pd.to_datetime(right_pain_df['date_anon'])\n",
    "\n",
    "left_df['date_anon'] = pd.to_datetime(left_df['date_anon'])\n",
    "left_pain_df['date_anon'] = pd.to_datetime(left_pain_df['date_anon'])"
   ]
  },
  {
   "cell_type": "code",
   "execution_count": 20,
   "id": "057af0ea-1e4f-4b60-98e3-b091b3d8b643",
   "metadata": {},
   "outputs": [],
   "source": [
    "right_df = right_df.sort_values(by=['date_anon'])\n",
    "left_df = left_df.sort_values(by=['date_anon'])\n",
    "\n",
    "right_pain_df = right_pain_df.sort_values(by=['date_anon'])\n",
    "left_pain_df = left_pain_df.sort_values(by=['date_anon'])"
   ]
  },
  {
   "cell_type": "code",
   "execution_count": 21,
   "id": "1d775b56-4a3d-4a7d-9195-ecfa691b22c6",
   "metadata": {},
   "outputs": [],
   "source": [
    "right_merged_df = pd.merge_asof(right_df, right_pain_df[['empi_anon','pain_score','date_anon']], on='date_anon', by='empi_anon', tolerance=pd.Timedelta(days=3), direction='nearest')\n",
    "\n",
    "left_merged_df = pd.merge_asof(left_df, left_pain_df[['empi_anon','pain_score','date_anon']], on='date_anon', by='empi_anon', tolerance=pd.Timedelta(days=3), direction='nearest')\n",
    "\n"
   ]
  },
  {
   "cell_type": "code",
   "execution_count": 22,
   "id": "1fc07e17-612f-4d69-92d4-ef15ef2d236f",
   "metadata": {},
   "outputs": [
    {
     "data": {
      "text/plain": [
       "pain_score\n",
       "NaN     36377\n",
       "5.0      2660\n",
       "8.0      2564\n",
       "7.0      2236\n",
       "6.0      1836\n",
       "4.0      1801\n",
       "3.0      1363\n",
       "10.0     1304\n",
       "2.0      1010\n",
       "9.0       982\n",
       "0.0       603\n",
       "1.0       494\n",
       "Name: count, dtype: int64"
      ]
     },
     "execution_count": 22,
     "metadata": {},
     "output_type": "execute_result"
    }
   ],
   "source": [
    "right_merged_df.pain_score.value_counts(dropna=False)"
   ]
  },
  {
   "cell_type": "code",
   "execution_count": 23,
   "id": "e4bc81e5-eafd-4a72-807f-89befe1359ac",
   "metadata": {},
   "outputs": [
    {
     "data": {
      "text/plain": [
       "pain_score\n",
       "NaN     37710\n",
       "5.0      2542\n",
       "8.0      2477\n",
       "7.0      2212\n",
       "4.0      1786\n",
       "6.0      1781\n",
       "3.0      1337\n",
       "10.0     1204\n",
       "9.0       974\n",
       "2.0       958\n",
       "0.0       583\n",
       "1.0       454\n",
       "Name: count, dtype: int64"
      ]
     },
     "execution_count": 23,
     "metadata": {},
     "output_type": "execute_result"
    }
   ],
   "source": [
    "left_merged_df.pain_score.value_counts(dropna=False)"
   ]
  },
  {
   "cell_type": "code",
   "execution_count": 24,
   "id": "c54b591d-59fc-4209-a0f8-b660478b79eb",
   "metadata": {},
   "outputs": [],
   "source": [
    "right_final_df = right_merged_df.dropna(subset=['pain_score'])\n",
    "left_final_df = left_merged_df.dropna(subset=['pain_score'])"
   ]
  },
  {
   "cell_type": "code",
   "execution_count": 25,
   "id": "64f14412-62f7-42c5-8cbc-3af77a1c8b87",
   "metadata": {},
   "outputs": [],
   "source": [
    "right_final_df = right_final_df.rename(columns={'R_KLG_inference':'KLG_inference'})\n",
    "left_final_df = left_final_df.rename(columns={'L_KLG_inference':'KLG_inference'})\n"
   ]
  },
  {
   "cell_type": "code",
   "execution_count": 26,
   "id": "b359bf78-67c5-401e-8cad-7486ddab3f49",
   "metadata": {},
   "outputs": [],
   "source": [
    "right_final_df['laterality']=\"R\"\n",
    "left_final_df['laterality']=\"L\""
   ]
  },
  {
   "cell_type": "code",
   "execution_count": 27,
   "id": "da734754-e22a-4cf8-9a6d-02002539801f",
   "metadata": {},
   "outputs": [],
   "source": [
    "data_df = pd.concat([right_final_df, left_final_df]).reset_index(drop=True)"
   ]
  },
  {
   "cell_type": "code",
   "execution_count": 28,
   "id": "2ba336af-9995-4bf0-b792-2ca547ad2efd",
   "metadata": {},
   "outputs": [
    {
     "data": {
      "text/plain": [
       "R_KLG_inference\n",
       "2.0    17472\n",
       "0.0    13347\n",
       "3.0     9305\n",
       "4.0     5176\n",
       "1.0     2539\n",
       "NaN       84\n",
       "Name: count, dtype: int64"
      ]
     },
     "execution_count": 28,
     "metadata": {},
     "output_type": "execute_result"
    }
   ],
   "source": [
    "image_df[(image_df.laterality==\"B\") & (image_df.view_position==\"F\")  & (image_df.weight_bearing==1) & (image_df.arthroplasty==\"0\")].R_KLG_inference.value_counts(dropna=False)\n"
   ]
  },
  {
   "cell_type": "code",
   "execution_count": 29,
   "id": "77d64dd8-69be-4760-b5f9-3af96626418a",
   "metadata": {},
   "outputs": [
    {
     "data": {
      "text/plain": [
       "(33161, 21)"
      ]
     },
     "execution_count": 29,
     "metadata": {},
     "output_type": "execute_result"
    }
   ],
   "source": [
    "data_df.shape"
   ]
  },
  {
   "cell_type": "code",
   "execution_count": 30,
   "id": "48703f87-a212-44f2-89ad-a0c9d0e498d8",
   "metadata": {},
   "outputs": [
    {
     "data": {
      "text/plain": [
       "KLG_inference\n",
       "2.0    11652\n",
       "3.0     8505\n",
       "0.0     6684\n",
       "4.0     4628\n",
       "1.0     1622\n",
       "NaN       70\n",
       "Name: count, dtype: int64"
      ]
     },
     "execution_count": 30,
     "metadata": {},
     "output_type": "execute_result"
    }
   ],
   "source": [
    "data_df.KLG_inference.value_counts(dropna=False)"
   ]
  },
  {
   "cell_type": "code",
   "execution_count": 31,
   "id": "4aa57617-7b87-4759-b122-cf253f8e518d",
   "metadata": {},
   "outputs": [],
   "source": [
    "data_df = data_df.dropna(subset=['KLG_inference'])"
   ]
  },
  {
   "cell_type": "code",
   "execution_count": 32,
   "id": "c49469cf-9b88-4805-945c-c4127d305cb0",
   "metadata": {},
   "outputs": [],
   "source": [
    "data_df = pd.merge(data_df, demo_df[['empi_anon','sex','race']])\n"
   ]
  },
  {
   "cell_type": "code",
   "execution_count": 33,
   "id": "ac2df040-2140-4b04-b4e2-b99d285bd91f",
   "metadata": {},
   "outputs": [
    {
     "data": {
      "text/plain": [
       "<Axes: >"
      ]
     },
     "execution_count": 33,
     "metadata": {},
     "output_type": "execute_result"
    },
    {
     "data": {
      "image/png": "[encoded data removed]",
      "text/plain": [
       "<Figure size 640x480 with 1 Axes>"
      ]
     },
     "metadata": {},
     "output_type": "display_data"
    }
   ],
   "source": [
    "data_df.pain_score.hist(bins=11)"
   ]
  },
  {
   "cell_type": "code",
   "execution_count": 34,
   "id": "423213fa-d4c5-44bd-97b5-bd474c6b2aa6",
   "metadata": {},
   "outputs": [
    {
     "data": {
      "text/plain": [
       "<Axes: >"
      ]
     },
     "execution_count": 34,
     "metadata": {},
     "output_type": "execute_result"
    },
    {
     "data": {
      "image/png": "[encoded data removed]",
      "text/plain": [
       "<Figure size 640x480 with 1 Axes>"
      ]
     },
     "metadata": {},
     "output_type": "display_data"
    }
   ],
   "source": [
    "data_df[data_df.sex==\"Male\"].pain_score.hist(bins=11)"
   ]
  },
  {
   "cell_type": "code",
   "execution_count": 35,
   "id": "1de57f5e-3283-4003-a183-b293c373cbfb",
   "metadata": {},
   "outputs": [
    {
     "data": {
      "text/plain": [
       "<Axes: >"
      ]
     },
     "execution_count": 35,
     "metadata": {},
     "output_type": "execute_result"
    },
    {
     "data": {
      "image/png": "[encoded data removed]",
      "text/plain": [
       "<Figure size 640x480 with 1 Axes>"
      ]
     },
     "metadata": {},
     "output_type": "display_data"
    }
   ],
   "source": [
    "data_df[data_df.sex==\"Female\"].pain_score.hist(bins=11)"
   ]
  },
  {
   "cell_type": "code",
   "execution_count": 36,
   "id": "a9c784d4-1379-4a35-8434-320fe6d8ea75",
   "metadata": {},
   "outputs": [
    {
     "data": {
      "text/plain": [
       "<Axes: >"
      ]
     },
     "execution_count": 36,
     "metadata": {},
     "output_type": "execute_result"
    },
    {
     "data": {
      "image/png": "[encoded data removed]",
      "text/plain": [
       "<Figure size 640x480 with 1 Axes>"
      ]
     },
     "metadata": {},
     "output_type": "display_data"
    }
   ],
   "source": [
    "data_df[data_df.race==\"Caucasian or White\"].pain_score.hist(bins=11)"
   ]
  },
  {
   "cell_type": "code",
   "execution_count": 37,
   "id": "1a9efddd-f3d7-4a3f-b750-824dd7e56375",
   "metadata": {},
   "outputs": [
    {
     "data": {
      "text/plain": [
       "<Axes: >"
      ]
     },
     "execution_count": 37,
     "metadata": {},
     "output_type": "execute_result"
    },
    {
     "data": {
      "image/png": "[encoded data removed]",
      "text/plain": [
       "<Figure size 640x480 with 1 Axes>"
      ]
     },
     "metadata": {},
     "output_type": "display_data"
    }
   ],
   "source": [
    "data_df[data_df.race==\"African American or Black\"].pain_score.hist(bins=11)"
   ]
  },
  {
   "cell_type": "code",
   "execution_count": null,
   "id": "bf225ead-4417-4d42-8af2-73ad23d30146",
   "metadata": {},
   "outputs": [],
   "source": []
  }
 ],
 "metadata": {
  "kernelspec": {
   "display_name": "Python 3 (ipykernel)",
   "language": "python",
   "name": "python3"
  },
  "language_info": {
   "codemirror_mode": {
    "name": "ipython",
    "version": 3
   },
   "file_extension": ".py",
   "mimetype": "text/x-python",
   "name": "python",
   "nbconvert_exporter": "python",
   "pygments_lexer": "ipython3",
   "version": "3.10.10"
  }
 },
 "nbformat": 4,
 "nbformat_minor": 5
}
